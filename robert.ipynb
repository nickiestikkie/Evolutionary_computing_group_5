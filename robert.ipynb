{
 "cells": [
  {
   "cell_type": "code",
   "execution_count": 2,
   "metadata": {},
   "outputs": [
    {
     "name": "stdout",
     "output_type": "stream",
     "text": [
      "pygame 2.5.2 (SDL 2.28.3, Python 3.11.4)\n",
      "Hello from the pygame community. https://www.pygame.org/contribute.html\n"
     ]
    }
   ],
   "source": [
    "import sys\n",
    "\n",
    "from evoman.environment import Environment\n",
    "from demo_controller import player_controller\n",
    "\n",
    "# imports other libs\n",
    "import time\n",
    "import numpy as np\n",
    "from math import fabs,sqrt\n",
    "import glob, os"
   ]
  },
  {
   "cell_type": "code",
   "execution_count": 15,
   "metadata": {},
   "outputs": [],
   "source": [
    "n_vars = 10\n",
    "dom_u = 1\n",
    "dom_l = -1\n",
    "npop = 100\n",
    "gens = 30\n",
    "mutation = 0.2\n",
    "last_best = 0\n",
    "\n"
   ]
  },
  {
   "cell_type": "code",
   "execution_count": 107,
   "metadata": {},
   "outputs": [],
   "source": [
    "def crossover(pop, fixed_start=True, fixed_end=True, n_offspring=2, p_left=0.5, p_mutation = 0.2):\n",
    "    \n",
    "    total_offspring = np.zeros((0,n_vars))\n",
    "    \n",
    "    for p in range(0, pop.shape[0], 2):  # stepsize 2, since you choose 2 parents and otherwise you get 2 times the number of offspring\n",
    "        parents = np.zeros((2, pop.shape[1]))\n",
    "        parents[0] = parent_selection(pop)\n",
    "        parents[1] = parent_selection(pop)\n",
    "        \n",
    "        offspring = np.zeros((n_offspring, n_vars))\n",
    "        \n",
    "        index_list = np.arange(0, len(parents[0])).tolist() #create a list of index to sample from\n",
    "    \n",
    "        if fixed_start:\n",
    "            index_list.remove(0) #Remove the first index 0 from the list\n",
    "    \n",
    "        if fixed_end:\n",
    "            index_list.remove(len(parents[0])-1) #Remove the last index from the list\n",
    "        \n",
    "        #Sample one integers from the index list\n",
    "        a = np.random.choice(index_list)\n",
    "             \n",
    "        for c in range(len(offspring)):\n",
    "            if np.random.uniform() <= p_left:  # recombine left part\n",
    "                offspring[c, a:] = parents[c, a:]\n",
    "                offspring[c, :a] = (parents[0, :a] + parents[1, :a]) / 2\n",
    "\n",
    "            else:  # recombine right part\n",
    "                offspring[c, :a] = parents[c, :a]\n",
    "                offspring[c, a:] = (parents[c, a:] + parents[1, a:]) / 2\n",
    "                \n",
    "            # mutation \n",
    "            for i in range(len(offspring[c])):\n",
    "                if np.random.uniform(0,1) <= p_mutation:\n",
    "                    offspring[c, i] = np.random.uniform(-1, 1)\n",
    "            \n",
    "            total_offspring = np.vstack((total_offspring, offspring[c]))\n",
    "     \n",
    "    return total_offspring\n",
    "        "
   ]
  },
  {
   "cell_type": "code",
   "execution_count": 100,
   "metadata": {},
   "outputs": [],
   "source": [
    "pop = np.random.uniform(dom_l, dom_u, (10, n_vars))\n",
    "fit_pop = np.linspace(1, 10, 10)"
   ]
  },
  {
   "cell_type": "code",
   "execution_count": 106,
   "metadata": {},
   "outputs": [],
   "source": [
    "def parent_selection(pop, iNum_of_parents=6):\n",
    "    \n",
    "    # Select n random parents ids\n",
    "    random_parents_id = np.random.choice(pop.shape[0], iNum_of_parents, replace=False)\n",
    "    \n",
    "    random_parents_fitness = fit_pop[random_parents_id]\n",
    "    \n",
    "    best_parent = np.where(random_parents_fitness == np.max(random_parents_fitness))\n",
    "\n",
    "\n",
    "    # Select the n according individuals\n",
    "    # random_parents_fit = np.array(fit_pop[i] for i in len(random_parents_id))\n",
    "    \n",
    "    return pop[best_parent]\n",
    "\n",
    "    # # Find the index of the parent with the highest fitness score\n",
    "    # best_parent_id = np.argmax(random_parents[:,1])\n",
    "    # parent_one = random_parents[best_parent_id,0]\n",
    "\n",
    "    # # Create a new matrix without the best parent\n",
    "    # random_parents = np.delete(random_parents, best_parent_id, axis=0)\n",
    "\n",
    "    # # select the second parent\n",
    "    # second_best = np.argmax(random_parents[:,1])\n",
    "    # second_parent = random_parents[second_best,0]\n",
    "\n",
    "    # # Select the row with the maximum value in the first column\n",
    "    # return int(parent_one), int(second_parent)"
   ]
  },
  {
   "cell_type": "code",
   "execution_count": 103,
   "metadata": {},
   "outputs": [
    {
     "data": {
      "text/plain": [
       "((array([1]),),\n",
       " array([[ 0.26068031,  0.76290502,  0.94647049, -0.25614783,  0.54766479,\n",
       "          0.13706722,  0.14967681, -0.65007128,  0.23176116,  0.63674793]]))"
      ]
     },
     "execution_count": 103,
     "metadata": {},
     "output_type": "execute_result"
    }
   ],
   "source": [
    "parent_selection(pop)"
   ]
  },
  {
   "cell_type": "code",
   "execution_count": 104,
   "metadata": {},
   "outputs": [
    {
     "data": {
      "text/plain": [
       "array([ 0.71264934,  0.27081956,  0.0408217 ,  0.97916637,  0.56554744,\n",
       "       -0.56685816,  0.06658583,  0.62295572,  0.02617009,  0.64810607])"
      ]
     },
     "execution_count": 104,
     "metadata": {},
     "output_type": "execute_result"
    }
   ],
   "source": [
    "pop[9]"
   ]
  },
  {
   "cell_type": "code",
   "execution_count": 105,
   "metadata": {},
   "outputs": [
    {
     "data": {
      "text/plain": [
       "array([[-0.36668572, -0.72445688,  0.90914999,  0.24322528, -0.78926402,\n",
       "        -0.15787338,  0.8668384 , -0.49667703,  0.21914836,  0.63725011],\n",
       "       [ 0.26068031,  0.76290502,  0.94647049, -0.25614783,  0.54766479,\n",
       "         0.13706722,  0.14967681, -0.65007128,  0.23176116,  0.63674793],\n",
       "       [ 0.25966583,  0.48374922,  0.73704626,  0.56324543, -0.667511  ,\n",
       "         0.02865414, -0.26818811,  0.8281812 , -0.05623818, -0.64921138],\n",
       "       [-0.9019194 , -0.69276731, -0.94726995, -0.49092537,  0.88741809,\n",
       "         0.23810801, -0.2156478 , -0.69771512,  0.33258455,  0.57487299],\n",
       "       [ 0.23376349,  0.1102021 , -0.21626458,  0.81018701, -0.30258484,\n",
       "        -0.25904084, -0.84049876,  0.73607359,  0.92186809, -0.30060091],\n",
       "       [-0.07881701,  0.05004033,  0.42328278, -0.74315574, -0.18002084,\n",
       "        -0.85121094, -0.83339445,  0.04898984, -0.8507073 , -0.47663747],\n",
       "       [ 0.60948256, -0.76768601,  0.68571786, -0.73214201,  0.95226864,\n",
       "         0.16541555, -0.57622683, -0.90777711, -0.75419279, -0.99954449],\n",
       "       [ 0.58528908,  0.65683621,  0.27058274, -0.80809837, -0.38681794,\n",
       "        -0.04490654, -0.10321827, -0.43298962,  0.28999036,  0.18991467],\n",
       "       [-0.19138645, -0.45189463, -0.82876154,  0.84978929, -0.79061891,\n",
       "        -0.50543607, -0.27751239, -0.00504932, -0.349275  ,  0.44938855],\n",
       "       [ 0.71264934,  0.27081956,  0.0408217 ,  0.97916637,  0.56554744,\n",
       "        -0.56685816,  0.06658583,  0.62295572,  0.02617009,  0.64810607]])"
      ]
     },
     "execution_count": 105,
     "metadata": {},
     "output_type": "execute_result"
    }
   ],
   "source": [
    "pop"
   ]
  },
  {
   "cell_type": "code",
   "execution_count": null,
   "metadata": {},
   "outputs": [],
   "source": [
    "def parent_selection(pop, iNum_of_parents=6):\n",
    "    \n",
    "    # Select n random parents ids\n",
    "    random_parents_id = np.random.choice(pop.shape[0], iNum_of_parents, replace=False)\n",
    "    \n",
    "    random_parents_fitness = fit_pop[random_parents_id]\n",
    "    \n",
    "    best_parent = np.where(random_parents_fitness == np.max(random_parents_fitness))\n",
    "\n",
    "    return pop[best_parent][0]\n",
    "\n",
    "\n",
    "# limits\n",
    "def limits(x):\n",
    "\n",
    "    if x>dom_u:\n",
    "        return dom_u\n",
    "    elif x<dom_l:\n",
    "        return dom_l\n",
    "    else:\n",
    "        return x\n",
    "\n",
    "\n",
    "# crossover\n",
    "def crossover(pop, fixed_start=True, fixed_end=True, n_vars=None, n_offspring=2, p_left=0.5, p_mutation = 0.2):\n",
    "    \n",
    "    total_offspring = np.zeros((0,n_vars))\n",
    "    \n",
    "    for p in range(0, pop.shape[0], 2):  # stepsize 2, since you choose 2 parents and otherwise you get 2 times the number of offspring\n",
    "        parents = np.zeros((2, pop.shape[1]))\n",
    "        parents[0] = parent_selection(pop)\n",
    "        parents[1] = parent_selection(pop)\n",
    "        \n",
    "        offspring = np.zeros((n_offspring, n_vars))\n",
    "        \n",
    "        index_list = np.arange(0, len(parents[0])).tolist() #create a list of index to sample from\n",
    "    \n",
    "        if fixed_start:\n",
    "            index_list.remove(0) #Remove the first index 0 from the list\n",
    "    \n",
    "        if fixed_end:\n",
    "            index_list.remove(len(parents[0])-1) #Remove the last index from the list\n",
    "        \n",
    "        #Sample one integers from the index list\n",
    "        a = np.random.choice(index_list)\n",
    "             \n",
    "        for c in range(len(offspring)):\n",
    "            if np.random.uniform() <= p_left:  # recombine left part\n",
    "                offspring[c, a:] = parents[c, a:]\n",
    "                offspring[c, :a] = (parents[0, :a] + parents[1, :a]) / 2\n",
    "\n",
    "            else:  # recombine right part\n",
    "                offspring[c, :a] = parents[c, :a]\n",
    "                offspring[c, a:] = (parents[c, a:] + parents[1, a:]) / 2\n",
    "                \n",
    "            # mutation \n",
    "            for i in range(len(offspring[c])):\n",
    "                if np.random.uniform(0,1) <= p_mutation:\n",
    "                    offspring[c, i] = np.random.uniform(-1, 1)\n",
    "            \n",
    "            total_offspring = np.vstack((total_offspring, offspring[c]))\n",
    "     \n",
    "    return total_offspring\n"
   ]
  }
 ],
 "metadata": {
  "kernelspec": {
   "display_name": "env",
   "language": "python",
   "name": "python3"
  },
  "language_info": {
   "codemirror_mode": {
    "name": "ipython",
    "version": 3
   },
   "file_extension": ".py",
   "mimetype": "text/x-python",
   "name": "python",
   "nbconvert_exporter": "python",
   "pygments_lexer": "ipython3",
   "version": "3.11.4"
  },
  "orig_nbformat": 4
 },
 "nbformat": 4,
 "nbformat_minor": 2
}
