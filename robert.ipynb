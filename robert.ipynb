{
 "cells": [
  {
   "cell_type": "code",
   "execution_count": 1,
   "metadata": {},
   "outputs": [
    {
     "name": "stdout",
     "output_type": "stream",
     "text": [
      "pygame 2.5.2 (SDL 2.28.3, Python 3.11.4)\n",
      "Hello from the pygame community. https://www.pygame.org/contribute.html\n"
     ]
    }
   ],
   "source": [
    "import sys\n",
    "\n",
    "from evoman.environment import Environment\n",
    "from demo_controller import player_controller\n",
    "\n",
    "# imports other libs\n",
    "import time\n",
    "import numpy as np\n",
    "from math import fabs,sqrt\n",
    "import glob, os\n",
    "from numpy import random"
   ]
  },
  {
   "cell_type": "code",
   "execution_count": 2,
   "metadata": {},
   "outputs": [
    {
     "name": "stdout",
     "output_type": "stream",
     "text": [
      "\n",
      "MESSAGE: Pygame initialized for simulation.\n",
      "\n",
      "########## Simulation state - INI ###########\n",
      "\n",
      "# solutions # : EMPTY \n",
      "\n",
      "# sensors # : 20\n",
      "\n",
      " ------  parameters ------  \n",
      "\n",
      "# contact hurt (training agent) # : player\n",
      "\n",
      "multiple mode: yes\n",
      "\n",
      "enemies list: 7 8\n",
      "\n",
      "current enemy: 7\n",
      "\n",
      "player mode: ai\n",
      "\n",
      "enemy mode: static\n",
      "\n",
      "level: 2\n",
      "\n",
      "clock precision: low\n",
      "\n",
      "inputs coded: no\n",
      "\n",
      "random initialization: no\n",
      "\n",
      "expiration time: 3000\n",
      "\n",
      "speed: fastest\n",
      "\n",
      "load player: yes\n",
      "\n",
      "load enemy: yes\n",
      "\n",
      "sound: off\n",
      "\n",
      "overture time: 100\n",
      "\n",
      "logs: on\n",
      "\n",
      "save logs: yes\n",
      "\n",
      "########## Simulation state - END ###########\n"
     ]
    }
   ],
   "source": [
    "# choose this for not using visuals and thus making experiments faster\n",
    "headless = True\n",
    "if headless:\n",
    "    os.environ[\"SDL_VIDEODRIVER\"] = \"dummy\"\n",
    "\n",
    "n_hidden_neurons = 10\n",
    "\n",
    "experiment_name = 'multi_demo'\n",
    "if not os.path.exists(experiment_name):\n",
    "    os.makedirs(experiment_name)\n",
    "\n",
    "# initializes simulation in multi evolution mode, for multiple static enemies.\n",
    "env = Environment(experiment_name=experiment_name,\n",
    "                  enemies=[7,8],\n",
    "                  multiplemode=\"yes\",\n",
    "                  playermode=\"ai\",\n",
    "                  player_controller=player_controller(n_hidden_neurons),\n",
    "                  enemymode=\"static\",\n",
    "                  level=2,\n",
    "                  speed=\"fastest\",\n",
    "                  visuals=False)\n",
    "\n",
    "# default environment fitness is assumed for experiment\n",
    "\n",
    "env.state_to_log() # checks environment state\n"
   ]
  },
  {
   "cell_type": "code",
   "execution_count": 3,
   "metadata": {},
   "outputs": [],
   "source": [
    "####   Optimization for controller solution (best genotype-weights for phenotype-network): Ganetic Algorihm    ###\n",
    "\n",
    "ini = time.time()  # sets time marker\n",
    "\n",
    "\n",
    "# genetic algorithm params\n",
    "\n",
    "run_mode = 'train' # train or test\n",
    "\n",
    "# number of weights for multilayer with 10 hidden neurons.\n",
    "n_vars = (env.get_num_sensors()+1)*n_hidden_neurons + (n_hidden_neurons+1)*5\n",
    "\n",
    "dom_u = 1\n",
    "dom_l = -1\n",
    "npop = 100\n",
    "gens = 30\n",
    "mutation = 0.2\n",
    "last_best = 0\n",
    "\n",
    "np.random.seed(420)"
   ]
  },
  {
   "cell_type": "code",
   "execution_count": 4,
   "metadata": {},
   "outputs": [],
   "source": [
    "# runs simulation\n",
    "def simulation(env,x):\n",
    "    f,p,e,t = env.play(pcont=x)\n",
    "    return f\n",
    "\n",
    "# normalizes\n",
    "def norm(x,pfit_pop):\n",
    "\n",
    "    if ( max(pfit_pop) - min(pfit_pop) ) > 0:\n",
    "        x_norm = ( x - min(pfit_pop) )/( max(pfit_pop) - min(pfit_pop) )\n",
    "    else:\n",
    "        x_norm = 0\n",
    "\n",
    "    if x_norm <= 0:\n",
    "        x_norm = 0.0000000001\n",
    "    return x_norm\n",
    "\n",
    "\n",
    "# evaluation\n",
    "def evaluate(x):\n",
    "    return np.array(list(map(lambda y: simulation(env,y), x)))\n",
    "\n",
    "\n",
    "# tournament\n",
    "def tournament(pop):\n",
    "    c1 =  np.random.randint(0,pop.shape[0], 1)\n",
    "    c2 =  np.random.randint(0,pop.shape[0], 1)\n",
    "\n",
    "    if fit_pop[c1] > fit_pop[c2]:\n",
    "        return pop[c1][0]\n",
    "    else:\n",
    "        return pop[c2][0]\n",
    "\n",
    "\n",
    "# limits\n",
    "def limits(x):\n",
    "\n",
    "    if x>dom_u:\n",
    "        return dom_u\n",
    "    elif x<dom_l:\n",
    "        return dom_l\n",
    "    else:\n",
    "        return x\n",
    "\n",
    "\n",
    "# crossover\n",
    "def crossover(pop):\n",
    "\n",
    "    total_offspring = np.zeros((0,n_vars))\n",
    "\n",
    "\n",
    "    for p in range(0,pop.shape[0], 2):\n",
    "        p1 = tournament(pop)\n",
    "        p2 = tournament(pop)\n",
    "\n",
    "        n_offspring = np.random.randint(1,3+1, 1)[0]\n",
    "        offspring = np.zeros( (n_offspring, n_vars) )\n",
    "\n",
    "        for f in range(0,n_offspring):\n",
    "            # crossover\n",
    "            cross_prop = np.random.uniform(0,1)\n",
    "            offspring[f] = p1*cross_prop+p2*(1-cross_prop)\n",
    "\n",
    "            # mutation\n",
    "            for i in range(0,len(offspring[f])):\n",
    "                if np.random.uniform(0 ,1)<=mutation:\n",
    "                    offspring[f][i] =   offspring[f][i]+np.random.normal(0, 1)\n",
    "\n",
    "            offspring[f] = np.array(list(map(lambda y: limits(y), offspring[f])))\n",
    "\n",
    "            total_offspring = np.vstack((total_offspring, offspring[f]))\n",
    "\n",
    "    return total_offspring\n"
   ]
  },
  {
   "cell_type": "code",
   "execution_count": 5,
   "metadata": {},
   "outputs": [
    {
     "ename": "SyntaxError",
     "evalue": "invalid syntax (3208107411.py, line 5)",
     "output_type": "error",
     "traceback": [
      "\u001b[0;36m  Cell \u001b[0;32mIn[5], line 5\u001b[0;36m\u001b[0m\n\u001b[0;31m    child[:a] =\u001b[0m\n\u001b[0m                ^\u001b[0m\n\u001b[0;31mSyntaxError\u001b[0m\u001b[0;31m:\u001b[0m invalid syntax\n"
     ]
    }
   ],
   "source": [
    "def arithmetic(p1, p2, a, p_left=0.5):\n",
    "    \n",
    "    child = np.repeat(-1, len(p1)).tolist()\n",
    "    if np.random.uniform() < p_left:  # recombine left part\n",
    "        child[:a] = \n",
    "        \n",
    "    else: \n",
    "        child[:a] = "
   ]
  },
  {
   "cell_type": "code",
   "execution_count": 107,
   "metadata": {},
   "outputs": [],
   "source": [
    "def crossover(pop, fixed_start=True, fixed_end=True, p_left=0.5, p_mutation = 0.2):\n",
    "    \n",
    "    # for p in range(0, pop.shape[0], 2):  # stepsize 2, since you choose 2 parents and otherwise you get 2 times the number of offspring\n",
    "        parents = np.zeros((2, pop.shape[1]))\n",
    "        parents[0] = parent_selection(pop)\n",
    "        parents[1] = parent_selection(pop)\n",
    "        \n",
    "        index_list = np.arange(0, len(parents[0])).tolist() #create a list of index to sample from\n",
    "    \n",
    "        if fixed_start:\n",
    "            index_list.remove(0) #Remove the first index 0 from the list\n",
    "    \n",
    "        if fixed_end:\n",
    "            index_list.remove(len(parents[0])-1) #Remove the last index from the list\n",
    "        \n",
    "        #Sample one integers from the index list\n",
    "        a = random.choice(index_list)\n",
    "\n",
    "        offspring = np.zeros((2, len(parents[0])))\n",
    "        \n",
    "        for c in range(len(offspring)):\n",
    "            if np.random.uniform() <= p_left:  # recombine left part\n",
    "                offspring[c, a:] = parents[c, a:]\n",
    "                offspring[c, :a] = (parents[0, :a] + parents[1, :a]) / 2\n",
    "\n",
    "            else:  # recombine right part\n",
    "                offspring[c, :a] = parents[c, :a]\n",
    "                offspring[c, a:] = (parents[c, a:] + parents[1, a:]) / 2\n",
    "                \n",
    "            # mutation \n",
    "            for i in range(len(offspring[c])):\n",
    "                if np.random.uniform(0,1) <= p_mutation:\n",
    "                    offspring[c, i] = np.random.uniform(-1, 1)\n",
    "            \n",
    "        return offspring\n",
    "        "
   ]
  },
  {
   "cell_type": "code",
   "execution_count": 106,
   "metadata": {},
   "outputs": [
    {
     "ename": "NameError",
     "evalue": "name 'parent_selection' is not defined",
     "output_type": "error",
     "traceback": [
      "\u001b[0;31m---------------------------------------------------------------------------\u001b[0m",
      "\u001b[0;31mNameError\u001b[0m                                 Traceback (most recent call last)",
      "\u001b[1;32m/Users/robert/Documents/VU/Master/P1/Evolutionairy Computing/Evolutionary_computing_group_5/robert.ipynb Cell 7\u001b[0m line \u001b[0;36m3\n\u001b[1;32m      <a href='vscode-notebook-cell:/Users/robert/Documents/VU/Master/P1/Evolutionairy%20Computing/Evolutionary_computing_group_5/robert.ipynb#X12sZmlsZQ%3D%3D?line=0'>1</a>\u001b[0m pop \u001b[39m=\u001b[39m np\u001b[39m.\u001b[39mrandom\u001b[39m.\u001b[39muniform(\u001b[39m0\u001b[39m, \u001b[39m10\u001b[39m, (\u001b[39m2\u001b[39m, \u001b[39m10\u001b[39m))\n\u001b[0;32m----> <a href='vscode-notebook-cell:/Users/robert/Documents/VU/Master/P1/Evolutionairy%20Computing/Evolutionary_computing_group_5/robert.ipynb#X12sZmlsZQ%3D%3D?line=2'>3</a>\u001b[0m crossover(pop)\n",
      "\u001b[1;32m/Users/robert/Documents/VU/Master/P1/Evolutionairy Computing/Evolutionary_computing_group_5/robert.ipynb Cell 7\u001b[0m line \u001b[0;36m5\n\u001b[1;32m      <a href='vscode-notebook-cell:/Users/robert/Documents/VU/Master/P1/Evolutionairy%20Computing/Evolutionary_computing_group_5/robert.ipynb#X12sZmlsZQ%3D%3D?line=0'>1</a>\u001b[0m \u001b[39mdef\u001b[39;00m \u001b[39mcrossover\u001b[39m(pop, fixed_start\u001b[39m=\u001b[39m\u001b[39mTrue\u001b[39;00m, fixed_end\u001b[39m=\u001b[39m\u001b[39mTrue\u001b[39;00m, p_left\u001b[39m=\u001b[39m\u001b[39m0.5\u001b[39m):\n\u001b[1;32m      <a href='vscode-notebook-cell:/Users/robert/Documents/VU/Master/P1/Evolutionairy%20Computing/Evolutionary_computing_group_5/robert.ipynb#X12sZmlsZQ%3D%3D?line=1'>2</a>\u001b[0m     \n\u001b[1;32m      <a href='vscode-notebook-cell:/Users/robert/Documents/VU/Master/P1/Evolutionairy%20Computing/Evolutionary_computing_group_5/robert.ipynb#X12sZmlsZQ%3D%3D?line=2'>3</a>\u001b[0m     \u001b[39m# for p in range(0, pop.shape[0], 2):  # stepsize 2, since you choose 2 parents and otherwise you get 2 times the number of offspring\u001b[39;00m\n\u001b[1;32m      <a href='vscode-notebook-cell:/Users/robert/Documents/VU/Master/P1/Evolutionairy%20Computing/Evolutionary_computing_group_5/robert.ipynb#X12sZmlsZQ%3D%3D?line=3'>4</a>\u001b[0m         parents \u001b[39m=\u001b[39m np\u001b[39m.\u001b[39mzeros((\u001b[39m2\u001b[39m, pop\u001b[39m.\u001b[39mshape[\u001b[39m1\u001b[39m]))\n\u001b[0;32m----> <a href='vscode-notebook-cell:/Users/robert/Documents/VU/Master/P1/Evolutionairy%20Computing/Evolutionary_computing_group_5/robert.ipynb#X12sZmlsZQ%3D%3D?line=4'>5</a>\u001b[0m         parents[\u001b[39m0\u001b[39m] \u001b[39m=\u001b[39m parent_selection(pop)\n\u001b[1;32m      <a href='vscode-notebook-cell:/Users/robert/Documents/VU/Master/P1/Evolutionairy%20Computing/Evolutionary_computing_group_5/robert.ipynb#X12sZmlsZQ%3D%3D?line=5'>6</a>\u001b[0m         parents[\u001b[39m1\u001b[39m] \u001b[39m=\u001b[39m parent_selection(pop)\n\u001b[1;32m      <a href='vscode-notebook-cell:/Users/robert/Documents/VU/Master/P1/Evolutionairy%20Computing/Evolutionary_computing_group_5/robert.ipynb#X12sZmlsZQ%3D%3D?line=7'>8</a>\u001b[0m         index_list \u001b[39m=\u001b[39m np\u001b[39m.\u001b[39marange(\u001b[39m0\u001b[39m, \u001b[39mlen\u001b[39m(parents[\u001b[39m0\u001b[39m]))\u001b[39m.\u001b[39mtolist() \u001b[39m#create a list of index to sample from\u001b[39;00m\n",
      "\u001b[0;31mNameError\u001b[0m: name 'parent_selection' is not defined"
     ]
    }
   ],
   "source": [
    "pop = np.random.uniform(0, 10, (2, 10))\n",
    "\n",
    "crossover(pop)"
   ]
  },
  {
   "cell_type": "code",
   "execution_count": 104,
   "metadata": {},
   "outputs": [
    {
     "data": {
      "text/plain": [
       "array([[3.06015298, 1.66821339, 4.66808693, 3.40878794, 4.11667637,\n",
       "        0.91739448, 2.69653671, 5.28314435, 0.23078952, 3.33272517],\n",
       "       [3.00198927, 0.46522647, 8.87099956, 4.39127688, 8.62884024,\n",
       "        5.85548649, 4.0021702 , 9.30480571, 7.77376562, 2.96737497]])"
      ]
     },
     "execution_count": 104,
     "metadata": {},
     "output_type": "execute_result"
    }
   ],
   "source": [
    "pop"
   ]
  },
  {
   "cell_type": "code",
   "execution_count": 99,
   "metadata": {},
   "outputs": [],
   "source": [
    "\n",
    "p_left = 1\n",
    "parents = np.zeros((2, pop.shape[1]))\n",
    "parents[0] = pop[0]\n",
    "parents[1] = pop[1]\n",
    "        \n",
    "index_list = np.arange(0, len(parents[0])).tolist() #create a list of index to sample from\n",
    "        \n",
    "#Sample two integers from the index list\n",
    "a = random.choice(index_list)\n",
    "        \n",
    "child_1 = np.repeat(-1, len(parents[0])).tolist()\n",
    "child_2 = np.repeat(-1, len(parents[0])).tolist()\n",
    "offspring = np.zeros((2, len(parents[0])))\n",
    "        \n",
    "for c in range(len(offspring)):\n",
    "    if np.random.uniform() < p_left:  # recombine left part\n",
    "        offspring[c, a:] = parents[c, a:]\n",
    "        offspring[c, :a] = (parents[0, :a] + parents[1, :a]) / 2"
   ]
  },
  {
   "cell_type": "code",
   "execution_count": 98,
   "metadata": {},
   "outputs": [
    {
     "data": {
      "text/plain": [
       "array([[3.78161149, 4.48499313, 9.69531628, 9.79816561, 1.87038109,\n",
       "        8.91605203, 5.87779712, 8.1830603 , 5.21240831, 1.83093754],\n",
       "       [5.47921419, 0.82490476, 6.88085331, 4.19276304, 2.050734  ,\n",
       "        3.85385955, 1.71417053, 4.26157424, 7.24275299, 6.10782156]])"
      ]
     },
     "execution_count": 98,
     "metadata": {},
     "output_type": "execute_result"
    }
   ],
   "source": [
    "pop"
   ]
  },
  {
   "cell_type": "code",
   "execution_count": 31,
   "metadata": {},
   "outputs": [],
   "source": [
    "child_1 = np.repeat(-1, len(p1)).tolist()\n",
    "child_2 = np.repeat(-1, len(p1)).tolist()\n",
    "child_1[:a] = p1[:a]\n",
    "child_2[a:] = p1[a:]"
   ]
  },
  {
   "cell_type": "code",
   "execution_count": 43,
   "metadata": {},
   "outputs": [],
   "source": [
    "pop = np.random.randint(0,10, (2, 10))\n",
    "parents = np.zeros((2, pop.shape[1]))\n",
    "parents[0, 5:] = pop[0, 5:]\n",
    "parents[1] = pop[1]"
   ]
  },
  {
   "cell_type": "code",
   "execution_count": 44,
   "metadata": {},
   "outputs": [
    {
     "data": {
      "text/plain": [
       "array([[0., 0., 0., 0., 0., 1., 4., 0., 4., 8.],\n",
       "       [7., 9., 1., 1., 9., 5., 5., 8., 9., 6.]])"
      ]
     },
     "execution_count": 44,
     "metadata": {},
     "output_type": "execute_result"
    }
   ],
   "source": [
    "parents"
   ]
  },
  {
   "cell_type": "code",
   "execution_count": null,
   "metadata": {},
   "outputs": [],
   "source": []
  }
 ],
 "metadata": {
  "kernelspec": {
   "display_name": "env",
   "language": "python",
   "name": "python3"
  },
  "language_info": {
   "codemirror_mode": {
    "name": "ipython",
    "version": 3
   },
   "file_extension": ".py",
   "mimetype": "text/x-python",
   "name": "python",
   "nbconvert_exporter": "python",
   "pygments_lexer": "ipython3",
   "version": "3.11.4"
  },
  "orig_nbformat": 4
 },
 "nbformat": 4,
 "nbformat_minor": 2
}
