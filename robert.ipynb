{
 "cells": [
  {
   "cell_type": "code",
   "execution_count": 1,
   "metadata": {},
   "outputs": [],
   "source": [
    "def crossover(pop, fixed_start=True, fixed_end=True, n_offspring=2, p_left=0.5, p_mutation = 0.2):\n",
    "    \n",
    "    total_offspring = np.zeros((0,n_vars))\n",
    "    \n",
    "    for p in range(0, pop.shape[0], 2):  # stepsize 2, since you choose 2 parents and otherwise you get 2 times the number of offspring\n",
    "        parents = np.zeros((2, pop.shape[1]))\n",
    "        parents[0] = parent_selection(pop)\n",
    "        parents[1] = parent_selection(pop)\n",
    "        \n",
    "        offspring = np.zeros((n_offspring, n_vars))\n",
    "        \n",
    "        index_list = np.arange(0, len(parents[0])).tolist() #create a list of index to sample from\n",
    "    \n",
    "        if fixed_start:\n",
    "            index_list.remove(0) #Remove the first index 0 from the list\n",
    "    \n",
    "        if fixed_end:\n",
    "            index_list.remove(len(parents[0])-1) #Remove the last index from the list\n",
    "        \n",
    "        #Sample one integers from the index list\n",
    "        a = random.choice(index_list)\n",
    "             \n",
    "        for c in range(len(offspring)):\n",
    "            if np.random.uniform() <= p_left:  # recombine left part\n",
    "                offspring[c, a:] = parents[c, a:]\n",
    "                offspring[c, :a] = (parents[0, :a] + parents[1, :a]) / 2\n",
    "\n",
    "            else:  # recombine right part\n",
    "                offspring[c, :a] = parents[c, :a]\n",
    "                offspring[c, a:] = (parents[c, a:] + parents[1, a:]) / 2\n",
    "                \n",
    "            # mutation \n",
    "            for i in range(len(offspring[c])):\n",
    "                if np.random.uniform(0,1) <= p_mutation:\n",
    "                    offspring[c, i] = np.random.uniform(-1, 1)\n",
    "            \n",
    "            total_offspring = np.vstack((total_offspring, offspring[c]))\n",
    "     \n",
    "    return total_offspring\n",
    "        "
   ]
  }
 ],
 "metadata": {
  "kernelspec": {
   "display_name": "env",
   "language": "python",
   "name": "python3"
  },
  "language_info": {
   "codemirror_mode": {
    "name": "ipython",
    "version": 3
   },
   "file_extension": ".py",
   "mimetype": "text/x-python",
   "name": "python",
   "nbconvert_exporter": "python",
   "pygments_lexer": "ipython3",
   "version": "3.11.4"
  },
  "orig_nbformat": 4
 },
 "nbformat": 4,
 "nbformat_minor": 2
}
